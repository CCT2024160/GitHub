{
 "cells": [
  {
   "cell_type": "markdown",
   "id": "e21c999c",
   "metadata": {},
   "source": [
    "## Boolean - bool\n",
    "\n",
    "True\n",
    "\n",
    "False\n",
    "\n",
    "## Comparison operators\n",
    "- Equality == (nb two ==)\n",
    "- Inequality !=\n",
    "- Less than <\n",
    "- Greater than >\n",
    "- Less than or equal <=\n",
    "- Greater than or equal >="
   ]
  },
  {
   "cell_type": "code",
   "execution_count": 1,
   "id": "f44cb579",
   "metadata": {},
   "outputs": [
    {
     "data": {
      "text/plain": [
       "True"
      ]
     },
     "execution_count": 1,
     "metadata": {},
     "output_type": "execute_result"
    }
   ],
   "source": [
    "3 == 3\n"
   ]
  },
  {
   "cell_type": "code",
   "execution_count": 2,
   "id": "acddeb67",
   "metadata": {},
   "outputs": [
    {
     "data": {
      "text/plain": [
       "False"
      ]
     },
     "execution_count": 2,
     "metadata": {},
     "output_type": "execute_result"
    }
   ],
   "source": [
    "3 == 4 "
   ]
  },
  {
   "cell_type": "code",
   "execution_count": 3,
   "id": "7e215999",
   "metadata": {},
   "outputs": [
    {
     "data": {
      "text/plain": [
       "True"
      ]
     },
     "execution_count": 3,
     "metadata": {},
     "output_type": "execute_result"
    }
   ],
   "source": [
    "3 == 3.0\n"
   ]
  },
  {
   "cell_type": "code",
   "execution_count": 4,
   "id": "47f13750",
   "metadata": {},
   "outputs": [
    {
     "data": {
      "text/plain": [
       "False"
      ]
     },
     "execution_count": 4,
     "metadata": {},
     "output_type": "execute_result"
    }
   ],
   "source": [
    "3 == \"3\""
   ]
  },
  {
   "cell_type": "code",
   "execution_count": 5,
   "id": "dbba8264",
   "metadata": {},
   "outputs": [
    {
     "data": {
      "text/plain": [
       "True"
      ]
     },
     "execution_count": 5,
     "metadata": {},
     "output_type": "execute_result"
    }
   ],
   "source": [
    "3 == 3+0j"
   ]
  },
  {
   "cell_type": "code",
   "execution_count": null,
   "id": "a7ec3707",
   "metadata": {},
   "outputs": [],
   "source": [
    "\"\""
   ]
  }
 ],
 "metadata": {
  "kernelspec": {
   "display_name": "Python 3 (ipykernel)",
   "language": "python",
   "name": "python3"
  },
  "language_info": {
   "codemirror_mode": {
    "name": "ipython",
    "version": 3
   },
   "file_extension": ".py",
   "mimetype": "text/x-python",
   "name": "python",
   "nbconvert_exporter": "python",
   "pygments_lexer": "ipython3",
   "version": "3.9.13"
  }
 },
 "nbformat": 4,
 "nbformat_minor": 5
}
